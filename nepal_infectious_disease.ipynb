{
 "cells": [
  {
   "cell_type": "markdown",
   "id": "b14a8052",
   "metadata": {},
   "source": [
    "### Libraries"
   ]
  },
  {
   "cell_type": "markdown",
   "id": "74b12920",
   "metadata": {},
   "source": [
    "#### Boto3:\n",
    "Python SDK for AWS. It allows you to directly create, update, and delete AWS resources from your Python scripts"
   ]
  },
  {
   "cell_type": "code",
   "execution_count": 1,
   "id": "d836d613",
   "metadata": {},
   "outputs": [],
   "source": [
    "import boto3"
   ]
  },
  {
   "cell_type": "code",
   "execution_count": 2,
   "id": "806f973e",
   "metadata": {},
   "outputs": [],
   "source": [
    "import pandas as pd"
   ]
  },
  {
   "cell_type": "markdown",
   "id": "75c32163",
   "metadata": {},
   "source": [
    "#### io:\n",
    "The io module in Python provides facilities for working with streams of data in memory or on disk. The StringIO class in the io module is used for creating a stream object that behaves like a file object, but is backed by a string buffer in memory instead of a physical file on disk."
   ]
  },
  {
   "cell_type": "code",
   "execution_count": 3,
   "id": "9054a79f",
   "metadata": {},
   "outputs": [],
   "source": [
    "from io import StringIO"
   ]
  },
  {
   "cell_type": "code",
   "execution_count": 4,
   "id": "cd64099e",
   "metadata": {},
   "outputs": [],
   "source": [
    "import time"
   ]
  },
  {
   "cell_type": "markdown",
   "id": "60554539",
   "metadata": {},
   "source": [
    "### Access Case"
   ]
  },
  {
   "cell_type": "code",
   "execution_count": 5,
   "id": "0761537e",
   "metadata": {},
   "outputs": [],
   "source": [
    "AWS_ACCESS_KEY = 'your_access_key'\n",
    "AWS_SECRET_KEY = 'your secret key'\n",
    "AWS_REGION = 'us-east-1'\n",
    "SCHEMA_NAME = 'infectious-diseases-nepal-db' # Database name\n",
    "S3_STAGING_DIR = 's3://infectious-diseases-nepal-athena-output/output/'\n",
    "S3_BUCKET_NAME = 'infectious-diseases-nepal-athena-output'\n",
    "S3_OUTPUT_DIRECTORY = 'output'"
   ]
  },
  {
   "cell_type": "markdown",
   "id": "2eb0b932",
   "metadata": {},
   "source": [
    "### Connect to Athena and Query Data"
   ]
  },
  {
   "cell_type": "code",
   "execution_count": 6,
   "id": "b7f91f61",
   "metadata": {},
   "outputs": [],
   "source": [
    "athena_client = boto3.client(\n",
    "                \"athena\",\n",
    "                aws_access_key_id=AWS_ACCESS_KEY,\n",
    "                aws_secret_access_key=AWS_SECRET_KEY,\n",
    "                region_name=AWS_REGION\n",
    ")"
   ]
  },
  {
   "cell_type": "markdown",
   "id": "75867258",
   "metadata": {},
   "source": [
    "### Function\n",
    "This function basically take boto3 object and dictionary and run query in Athena and store the output in S3 i.e in staging_dir"
   ]
  },
  {
   "cell_type": "code",
   "execution_count": 7,
   "id": "2a411183",
   "metadata": {},
   "outputs": [],
   "source": [
    "Dict = {}\n",
    "def download_and_load_query_results(client: boto3.client, query_response: Dict) -> pd.DataFrame:\n",
    "    while True:\n",
    "        try:\n",
    "            #This function only loads the first 1000 rows\n",
    "            client.get_query_results(\n",
    "                QueryExecutionId=query_response[\"QueryExecutionId\"]\n",
    "            )\n",
    "            break\n",
    "        except Exception as err:\n",
    "            if \"not yet finished\" in str(err):\n",
    "                time.sleep(0.001)\n",
    "            else:\n",
    "                raise err\n",
    "    temp_file_location: str = \"athena_query_results.csv\"\n",
    "    s3_client = boto3.client(\n",
    "        \"s3\",\n",
    "        aws_access_key_id = AWS_ACCESS_KEY,\n",
    "        aws_secret_access_key = AWS_SECRET_KEY,\n",
    "        region_name = AWS_REGION\n",
    "    )\n",
    "    s3_client.download_file(\n",
    "        S3_BUCKET_NAME,\n",
    "        f\"{S3_OUTPUT_DIRECTORY}/{query_response['QueryExecutionId']}.csv\",\n",
    "        temp_file_location,\n",
    "    )\n",
    "    return pd.read_csv(temp_file_location)"
   ]
  },
  {
   "cell_type": "markdown",
   "id": "7e28bae7",
   "metadata": {},
   "source": [
    "### Query Response"
   ]
  },
  {
   "cell_type": "code",
   "execution_count": 8,
   "id": "3007410d",
   "metadata": {},
   "outputs": [],
   "source": [
    "response = athena_client.start_query_execution(\n",
    "    QueryString = \"SELECT * FROM infectious_diseases_nepal\",\n",
    "    QueryExecutionContext = {\"Database\":SCHEMA_NAME},\n",
    "    ResultConfiguration = {\n",
    "        \"OutputLocation\": S3_STAGING_DIR,\n",
    "        \"EncryptionConfiguration\": {\"EncryptionOption\": \"SSE_S3\"},\n",
    "    }\n",
    ")"
   ]
  },
  {
   "cell_type": "code",
   "execution_count": 9,
   "id": "f21c4609",
   "metadata": {},
   "outputs": [
    {
     "data": {
      "text/plain": [
       "{'QueryExecutionId': '6e4bd615-a8f2-4267-b591-cd5e7bc2e8b9',\n",
       " 'ResponseMetadata': {'RequestId': '9f1ddfe3-c0af-4106-91b2-e62cb846ecef',\n",
       "  'HTTPStatusCode': 200,\n",
       "  'HTTPHeaders': {'date': 'Thu, 11 May 2023 16:00:22 GMT',\n",
       "   'content-type': 'application/x-amz-json-1.1',\n",
       "   'content-length': '59',\n",
       "   'connection': 'keep-alive',\n",
       "   'x-amzn-requestid': '9f1ddfe3-c0af-4106-91b2-e62cb846ecef'},\n",
       "  'RetryAttempts': 0}}"
      ]
     },
     "execution_count": 9,
     "metadata": {},
     "output_type": "execute_result"
    }
   ],
   "source": [
    "response"
   ]
  },
  {
   "cell_type": "code",
   "execution_count": 10,
   "id": "19d7e6c0",
   "metadata": {},
   "outputs": [],
   "source": [
    "nepal_infectious_diseases = download_and_load_query_results(athena_client, response)"
   ]
  },
  {
   "cell_type": "code",
   "execution_count": 11,
   "id": "88f2b755",
   "metadata": {},
   "outputs": [
    {
     "data": {
      "text/html": [
       "<div>\n",
       "<style scoped>\n",
       "    .dataframe tbody tr th:only-of-type {\n",
       "        vertical-align: middle;\n",
       "    }\n",
       "\n",
       "    .dataframe tbody tr th {\n",
       "        vertical-align: top;\n",
       "    }\n",
       "\n",
       "    .dataframe thead th {\n",
       "        text-align: right;\n",
       "    }\n",
       "</style>\n",
       "<table border=\"1\" class=\"dataframe\">\n",
       "  <thead>\n",
       "    <tr style=\"text-align: right;\">\n",
       "      <th></th>\n",
       "      <th>gho (code)</th>\n",
       "      <th>gho (display)</th>\n",
       "      <th>gho (url)</th>\n",
       "      <th>publishstate (code)</th>\n",
       "      <th>publishstate (display)</th>\n",
       "      <th>publishstate (url)</th>\n",
       "      <th>year (code)</th>\n",
       "      <th>year (display)</th>\n",
       "      <th>year (url)</th>\n",
       "      <th>region (code)</th>\n",
       "      <th>...</th>\n",
       "      <th>country (code)</th>\n",
       "      <th>country (display)</th>\n",
       "      <th>country (url)</th>\n",
       "      <th>display value</th>\n",
       "      <th>numeric</th>\n",
       "      <th>low</th>\n",
       "      <th>high</th>\n",
       "      <th>stderr</th>\n",
       "      <th>stddev</th>\n",
       "      <th>comments</th>\n",
       "    </tr>\n",
       "  </thead>\n",
       "  <tbody>\n",
       "    <tr>\n",
       "      <th>0</th>\n",
       "      <td>#indicator+code</td>\n",
       "      <td>#indicator+name</td>\n",
       "      <td>#indicator+url</td>\n",
       "      <td>#status+code</td>\n",
       "      <td>#status+name</td>\n",
       "      <td>NaN</td>\n",
       "      <td>NaN</td>\n",
       "      <td>NaN</td>\n",
       "      <td>NaN</td>\n",
       "      <td>#region+code</td>\n",
       "      <td>...</td>\n",
       "      <td>#country+code</td>\n",
       "      <td>#country+name</td>\n",
       "      <td>NaN</td>\n",
       "      <td>NaN</td>\n",
       "      <td>NaN</td>\n",
       "      <td>NaN</td>\n",
       "      <td>NaN</td>\n",
       "      <td>NaN</td>\n",
       "      <td>NaN</td>\n",
       "      <td>NaN</td>\n",
       "    </tr>\n",
       "    <tr>\n",
       "      <th>1</th>\n",
       "      <td>CHOLERA_0000000002</td>\n",
       "      <td>Number of reported deaths from cholera</td>\n",
       "      <td>https://www.who.int/data/gho/indicator-metadat...</td>\n",
       "      <td>PUBLISHED</td>\n",
       "      <td>Published</td>\n",
       "      <td>NaN</td>\n",
       "      <td>1965.0</td>\n",
       "      <td>1965.0</td>\n",
       "      <td>NaN</td>\n",
       "      <td>SEAR</td>\n",
       "      <td>...</td>\n",
       "      <td>NPL</td>\n",
       "      <td>Nepal</td>\n",
       "      <td>NaN</td>\n",
       "      <td>97.0</td>\n",
       "      <td>97.0</td>\n",
       "      <td>NaN</td>\n",
       "      <td>NaN</td>\n",
       "      <td>NaN</td>\n",
       "      <td>NaN</td>\n",
       "      <td>NaN</td>\n",
       "    </tr>\n",
       "    <tr>\n",
       "      <th>2</th>\n",
       "      <td>CHOLERA_0000000002</td>\n",
       "      <td>Number of reported deaths from cholera</td>\n",
       "      <td>https://www.who.int/data/gho/indicator-metadat...</td>\n",
       "      <td>PUBLISHED</td>\n",
       "      <td>Published</td>\n",
       "      <td>NaN</td>\n",
       "      <td>1993.0</td>\n",
       "      <td>1993.0</td>\n",
       "      <td>NaN</td>\n",
       "      <td>SEAR</td>\n",
       "      <td>...</td>\n",
       "      <td>NPL</td>\n",
       "      <td>Nepal</td>\n",
       "      <td>NaN</td>\n",
       "      <td>0.0</td>\n",
       "      <td>0.0</td>\n",
       "      <td>NaN</td>\n",
       "      <td>NaN</td>\n",
       "      <td>NaN</td>\n",
       "      <td>NaN</td>\n",
       "      <td>NaN</td>\n",
       "    </tr>\n",
       "    <tr>\n",
       "      <th>3</th>\n",
       "      <td>CHOLERA_0000000002</td>\n",
       "      <td>Number of reported deaths from cholera</td>\n",
       "      <td>https://www.who.int/data/gho/indicator-metadat...</td>\n",
       "      <td>PUBLISHED</td>\n",
       "      <td>Published</td>\n",
       "      <td>NaN</td>\n",
       "      <td>1994.0</td>\n",
       "      <td>1994.0</td>\n",
       "      <td>NaN</td>\n",
       "      <td>SEAR</td>\n",
       "      <td>...</td>\n",
       "      <td>NPL</td>\n",
       "      <td>Nepal</td>\n",
       "      <td>NaN</td>\n",
       "      <td>0.0</td>\n",
       "      <td>0.0</td>\n",
       "      <td>NaN</td>\n",
       "      <td>NaN</td>\n",
       "      <td>NaN</td>\n",
       "      <td>NaN</td>\n",
       "      <td>NaN</td>\n",
       "    </tr>\n",
       "    <tr>\n",
       "      <th>4</th>\n",
       "      <td>CHOLERA_0000000002</td>\n",
       "      <td>Number of reported deaths from cholera</td>\n",
       "      <td>https://www.who.int/data/gho/indicator-metadat...</td>\n",
       "      <td>PUBLISHED</td>\n",
       "      <td>Published</td>\n",
       "      <td>NaN</td>\n",
       "      <td>1995.0</td>\n",
       "      <td>1995.0</td>\n",
       "      <td>NaN</td>\n",
       "      <td>SEAR</td>\n",
       "      <td>...</td>\n",
       "      <td>NPL</td>\n",
       "      <td>Nepal</td>\n",
       "      <td>NaN</td>\n",
       "      <td>0.0</td>\n",
       "      <td>0.0</td>\n",
       "      <td>NaN</td>\n",
       "      <td>NaN</td>\n",
       "      <td>NaN</td>\n",
       "      <td>NaN</td>\n",
       "      <td>NaN</td>\n",
       "    </tr>\n",
       "  </tbody>\n",
       "</table>\n",
       "<p>5 rows × 27 columns</p>\n",
       "</div>"
      ],
      "text/plain": [
       "           gho (code)                           gho (display)  \\\n",
       "0     #indicator+code                         #indicator+name   \n",
       "1  CHOLERA_0000000002  Number of reported deaths from cholera   \n",
       "2  CHOLERA_0000000002  Number of reported deaths from cholera   \n",
       "3  CHOLERA_0000000002  Number of reported deaths from cholera   \n",
       "4  CHOLERA_0000000002  Number of reported deaths from cholera   \n",
       "\n",
       "                                           gho (url) publishstate (code)  \\\n",
       "0                                     #indicator+url        #status+code   \n",
       "1  https://www.who.int/data/gho/indicator-metadat...           PUBLISHED   \n",
       "2  https://www.who.int/data/gho/indicator-metadat...           PUBLISHED   \n",
       "3  https://www.who.int/data/gho/indicator-metadat...           PUBLISHED   \n",
       "4  https://www.who.int/data/gho/indicator-metadat...           PUBLISHED   \n",
       "\n",
       "  publishstate (display)  publishstate (url)  year (code)  year (display)  \\\n",
       "0           #status+name                 NaN          NaN             NaN   \n",
       "1              Published                 NaN       1965.0          1965.0   \n",
       "2              Published                 NaN       1993.0          1993.0   \n",
       "3              Published                 NaN       1994.0          1994.0   \n",
       "4              Published                 NaN       1995.0          1995.0   \n",
       "\n",
       "   year (url) region (code)  ... country (code)  country (display)  \\\n",
       "0         NaN  #region+code  ...  #country+code      #country+name   \n",
       "1         NaN          SEAR  ...            NPL              Nepal   \n",
       "2         NaN          SEAR  ...            NPL              Nepal   \n",
       "3         NaN          SEAR  ...            NPL              Nepal   \n",
       "4         NaN          SEAR  ...            NPL              Nepal   \n",
       "\n",
       "  country (url)  display value  numeric low  high stderr stddev  comments  \n",
       "0           NaN            NaN      NaN NaN   NaN    NaN    NaN       NaN  \n",
       "1           NaN           97.0     97.0 NaN   NaN    NaN    NaN       NaN  \n",
       "2           NaN            0.0      0.0 NaN   NaN    NaN    NaN       NaN  \n",
       "3           NaN            0.0      0.0 NaN   NaN    NaN    NaN       NaN  \n",
       "4           NaN            0.0      0.0 NaN   NaN    NaN    NaN       NaN  \n",
       "\n",
       "[5 rows x 27 columns]"
      ]
     },
     "execution_count": 11,
     "metadata": {},
     "output_type": "execute_result"
    }
   ],
   "source": [
    "nepal_infectious_diseases.head()"
   ]
  },
  {
   "cell_type": "markdown",
   "id": "9e8ff869",
   "metadata": {},
   "source": [
    "### Transformation: "
   ]
  },
  {
   "cell_type": "markdown",
   "id": "f484e32e",
   "metadata": {},
   "source": [
    "#### Slicing Data Frame"
   ]
  },
  {
   "cell_type": "code",
   "execution_count": 12,
   "id": "e5c28fa9",
   "metadata": {},
   "outputs": [],
   "source": [
    "nepal_infectious_diseases = nepal_infectious_diseases[1:] # take all the data except 0 index"
   ]
  },
  {
   "cell_type": "code",
   "execution_count": 13,
   "id": "8b5ce808",
   "metadata": {},
   "outputs": [
    {
     "data": {
      "text/html": [
       "<div>\n",
       "<style scoped>\n",
       "    .dataframe tbody tr th:only-of-type {\n",
       "        vertical-align: middle;\n",
       "    }\n",
       "\n",
       "    .dataframe tbody tr th {\n",
       "        vertical-align: top;\n",
       "    }\n",
       "\n",
       "    .dataframe thead th {\n",
       "        text-align: right;\n",
       "    }\n",
       "</style>\n",
       "<table border=\"1\" class=\"dataframe\">\n",
       "  <thead>\n",
       "    <tr style=\"text-align: right;\">\n",
       "      <th></th>\n",
       "      <th>gho (code)</th>\n",
       "      <th>gho (display)</th>\n",
       "      <th>gho (url)</th>\n",
       "      <th>publishstate (code)</th>\n",
       "      <th>publishstate (display)</th>\n",
       "      <th>publishstate (url)</th>\n",
       "      <th>year (code)</th>\n",
       "      <th>year (display)</th>\n",
       "      <th>year (url)</th>\n",
       "      <th>region (code)</th>\n",
       "      <th>...</th>\n",
       "      <th>country (code)</th>\n",
       "      <th>country (display)</th>\n",
       "      <th>country (url)</th>\n",
       "      <th>display value</th>\n",
       "      <th>numeric</th>\n",
       "      <th>low</th>\n",
       "      <th>high</th>\n",
       "      <th>stderr</th>\n",
       "      <th>stddev</th>\n",
       "      <th>comments</th>\n",
       "    </tr>\n",
       "  </thead>\n",
       "  <tbody>\n",
       "    <tr>\n",
       "      <th>1</th>\n",
       "      <td>CHOLERA_0000000002</td>\n",
       "      <td>Number of reported deaths from cholera</td>\n",
       "      <td>https://www.who.int/data/gho/indicator-metadat...</td>\n",
       "      <td>PUBLISHED</td>\n",
       "      <td>Published</td>\n",
       "      <td>NaN</td>\n",
       "      <td>1965.0</td>\n",
       "      <td>1965.0</td>\n",
       "      <td>NaN</td>\n",
       "      <td>SEAR</td>\n",
       "      <td>...</td>\n",
       "      <td>NPL</td>\n",
       "      <td>Nepal</td>\n",
       "      <td>NaN</td>\n",
       "      <td>97.0</td>\n",
       "      <td>97.0</td>\n",
       "      <td>NaN</td>\n",
       "      <td>NaN</td>\n",
       "      <td>NaN</td>\n",
       "      <td>NaN</td>\n",
       "      <td>NaN</td>\n",
       "    </tr>\n",
       "    <tr>\n",
       "      <th>2</th>\n",
       "      <td>CHOLERA_0000000002</td>\n",
       "      <td>Number of reported deaths from cholera</td>\n",
       "      <td>https://www.who.int/data/gho/indicator-metadat...</td>\n",
       "      <td>PUBLISHED</td>\n",
       "      <td>Published</td>\n",
       "      <td>NaN</td>\n",
       "      <td>1993.0</td>\n",
       "      <td>1993.0</td>\n",
       "      <td>NaN</td>\n",
       "      <td>SEAR</td>\n",
       "      <td>...</td>\n",
       "      <td>NPL</td>\n",
       "      <td>Nepal</td>\n",
       "      <td>NaN</td>\n",
       "      <td>0.0</td>\n",
       "      <td>0.0</td>\n",
       "      <td>NaN</td>\n",
       "      <td>NaN</td>\n",
       "      <td>NaN</td>\n",
       "      <td>NaN</td>\n",
       "      <td>NaN</td>\n",
       "    </tr>\n",
       "    <tr>\n",
       "      <th>3</th>\n",
       "      <td>CHOLERA_0000000002</td>\n",
       "      <td>Number of reported deaths from cholera</td>\n",
       "      <td>https://www.who.int/data/gho/indicator-metadat...</td>\n",
       "      <td>PUBLISHED</td>\n",
       "      <td>Published</td>\n",
       "      <td>NaN</td>\n",
       "      <td>1994.0</td>\n",
       "      <td>1994.0</td>\n",
       "      <td>NaN</td>\n",
       "      <td>SEAR</td>\n",
       "      <td>...</td>\n",
       "      <td>NPL</td>\n",
       "      <td>Nepal</td>\n",
       "      <td>NaN</td>\n",
       "      <td>0.0</td>\n",
       "      <td>0.0</td>\n",
       "      <td>NaN</td>\n",
       "      <td>NaN</td>\n",
       "      <td>NaN</td>\n",
       "      <td>NaN</td>\n",
       "      <td>NaN</td>\n",
       "    </tr>\n",
       "    <tr>\n",
       "      <th>4</th>\n",
       "      <td>CHOLERA_0000000002</td>\n",
       "      <td>Number of reported deaths from cholera</td>\n",
       "      <td>https://www.who.int/data/gho/indicator-metadat...</td>\n",
       "      <td>PUBLISHED</td>\n",
       "      <td>Published</td>\n",
       "      <td>NaN</td>\n",
       "      <td>1995.0</td>\n",
       "      <td>1995.0</td>\n",
       "      <td>NaN</td>\n",
       "      <td>SEAR</td>\n",
       "      <td>...</td>\n",
       "      <td>NPL</td>\n",
       "      <td>Nepal</td>\n",
       "      <td>NaN</td>\n",
       "      <td>0.0</td>\n",
       "      <td>0.0</td>\n",
       "      <td>NaN</td>\n",
       "      <td>NaN</td>\n",
       "      <td>NaN</td>\n",
       "      <td>NaN</td>\n",
       "      <td>NaN</td>\n",
       "    </tr>\n",
       "    <tr>\n",
       "      <th>5</th>\n",
       "      <td>CHOLERA_0000000002</td>\n",
       "      <td>Number of reported deaths from cholera</td>\n",
       "      <td>https://www.who.int/data/gho/indicator-metadat...</td>\n",
       "      <td>PUBLISHED</td>\n",
       "      <td>Published</td>\n",
       "      <td>NaN</td>\n",
       "      <td>1971.0</td>\n",
       "      <td>1971.0</td>\n",
       "      <td>NaN</td>\n",
       "      <td>SEAR</td>\n",
       "      <td>...</td>\n",
       "      <td>NPL</td>\n",
       "      <td>Nepal</td>\n",
       "      <td>NaN</td>\n",
       "      <td>0.0</td>\n",
       "      <td>0.0</td>\n",
       "      <td>NaN</td>\n",
       "      <td>NaN</td>\n",
       "      <td>NaN</td>\n",
       "      <td>NaN</td>\n",
       "      <td>NaN</td>\n",
       "    </tr>\n",
       "  </tbody>\n",
       "</table>\n",
       "<p>5 rows × 27 columns</p>\n",
       "</div>"
      ],
      "text/plain": [
       "           gho (code)                           gho (display)  \\\n",
       "1  CHOLERA_0000000002  Number of reported deaths from cholera   \n",
       "2  CHOLERA_0000000002  Number of reported deaths from cholera   \n",
       "3  CHOLERA_0000000002  Number of reported deaths from cholera   \n",
       "4  CHOLERA_0000000002  Number of reported deaths from cholera   \n",
       "5  CHOLERA_0000000002  Number of reported deaths from cholera   \n",
       "\n",
       "                                           gho (url) publishstate (code)  \\\n",
       "1  https://www.who.int/data/gho/indicator-metadat...           PUBLISHED   \n",
       "2  https://www.who.int/data/gho/indicator-metadat...           PUBLISHED   \n",
       "3  https://www.who.int/data/gho/indicator-metadat...           PUBLISHED   \n",
       "4  https://www.who.int/data/gho/indicator-metadat...           PUBLISHED   \n",
       "5  https://www.who.int/data/gho/indicator-metadat...           PUBLISHED   \n",
       "\n",
       "  publishstate (display)  publishstate (url)  year (code)  year (display)  \\\n",
       "1              Published                 NaN       1965.0          1965.0   \n",
       "2              Published                 NaN       1993.0          1993.0   \n",
       "3              Published                 NaN       1994.0          1994.0   \n",
       "4              Published                 NaN       1995.0          1995.0   \n",
       "5              Published                 NaN       1971.0          1971.0   \n",
       "\n",
       "   year (url) region (code)  ... country (code)  country (display)  \\\n",
       "1         NaN          SEAR  ...            NPL              Nepal   \n",
       "2         NaN          SEAR  ...            NPL              Nepal   \n",
       "3         NaN          SEAR  ...            NPL              Nepal   \n",
       "4         NaN          SEAR  ...            NPL              Nepal   \n",
       "5         NaN          SEAR  ...            NPL              Nepal   \n",
       "\n",
       "  country (url)  display value  numeric low  high stderr stddev  comments  \n",
       "1           NaN           97.0     97.0 NaN   NaN    NaN    NaN       NaN  \n",
       "2           NaN            0.0      0.0 NaN   NaN    NaN    NaN       NaN  \n",
       "3           NaN            0.0      0.0 NaN   NaN    NaN    NaN       NaN  \n",
       "4           NaN            0.0      0.0 NaN   NaN    NaN    NaN       NaN  \n",
       "5           NaN            0.0      0.0 NaN   NaN    NaN    NaN       NaN  \n",
       "\n",
       "[5 rows x 27 columns]"
      ]
     },
     "execution_count": 13,
     "metadata": {},
     "output_type": "execute_result"
    }
   ],
   "source": [
    "nepal_infectious_diseases.head()"
   ]
  },
  {
   "cell_type": "markdown",
   "id": "b114cb5d",
   "metadata": {},
   "source": [
    "#### Checking equality of two columns:"
   ]
  },
  {
   "cell_type": "code",
   "execution_count": 14,
   "id": "540fe19d",
   "metadata": {},
   "outputs": [],
   "source": [
    "are_equal = nepal_infectious_diseases['startyear'] == nepal_infectious_diseases['endyear']\n",
    "\n",
    "# Display the result\n",
    "if not are_equal.all():\n",
    "    print(nepal_infectious_diseases[~are_equal]) # Note that the ~ operator is used to negate the boolean series, and the .all() method checks if all values in the series are True."
   ]
  },
  {
   "cell_type": "markdown",
   "id": "4b4d78bb",
   "metadata": {},
   "source": [
    "#### Removing redundant columns"
   ]
  },
  {
   "cell_type": "code",
   "execution_count": 15,
   "id": "d95ea3d5",
   "metadata": {},
   "outputs": [],
   "source": [
    "columns_to_remove = ['publishstate (code)', 'publishstate (display)', 'publishstate (url)', 'year (display)', 'year (url)', \n",
    "                     'region (code)', 'region (url)', 'worldbankincomegroup (code)', 'startyear', 'endyear', \n",
    "                     'worldbankincomegroup (display)', 'worldbankincomegroup (url)', 'country (code)', 'country (url)', 'numeric',\n",
    "                    'low', 'high', 'stderr', 'stddev', 'comments']"
   ]
  },
  {
   "cell_type": "code",
   "execution_count": 16,
   "id": "e9f518fb",
   "metadata": {},
   "outputs": [],
   "source": [
    "nepal_infectious_diseases = nepal_infectious_diseases.drop(columns_to_remove, axis=1)"
   ]
  },
  {
   "cell_type": "code",
   "execution_count": 17,
   "id": "1ed97e12",
   "metadata": {},
   "outputs": [
    {
     "data": {
      "text/html": [
       "<div>\n",
       "<style scoped>\n",
       "    .dataframe tbody tr th:only-of-type {\n",
       "        vertical-align: middle;\n",
       "    }\n",
       "\n",
       "    .dataframe tbody tr th {\n",
       "        vertical-align: top;\n",
       "    }\n",
       "\n",
       "    .dataframe thead th {\n",
       "        text-align: right;\n",
       "    }\n",
       "</style>\n",
       "<table border=\"1\" class=\"dataframe\">\n",
       "  <thead>\n",
       "    <tr style=\"text-align: right;\">\n",
       "      <th></th>\n",
       "      <th>gho (code)</th>\n",
       "      <th>gho (display)</th>\n",
       "      <th>gho (url)</th>\n",
       "      <th>year (code)</th>\n",
       "      <th>region (display)</th>\n",
       "      <th>country (display)</th>\n",
       "      <th>display value</th>\n",
       "    </tr>\n",
       "  </thead>\n",
       "  <tbody>\n",
       "    <tr>\n",
       "      <th>1</th>\n",
       "      <td>CHOLERA_0000000002</td>\n",
       "      <td>Number of reported deaths from cholera</td>\n",
       "      <td>https://www.who.int/data/gho/indicator-metadat...</td>\n",
       "      <td>1965.0</td>\n",
       "      <td>South-East Asia</td>\n",
       "      <td>Nepal</td>\n",
       "      <td>97.0</td>\n",
       "    </tr>\n",
       "    <tr>\n",
       "      <th>2</th>\n",
       "      <td>CHOLERA_0000000002</td>\n",
       "      <td>Number of reported deaths from cholera</td>\n",
       "      <td>https://www.who.int/data/gho/indicator-metadat...</td>\n",
       "      <td>1993.0</td>\n",
       "      <td>South-East Asia</td>\n",
       "      <td>Nepal</td>\n",
       "      <td>0.0</td>\n",
       "    </tr>\n",
       "    <tr>\n",
       "      <th>3</th>\n",
       "      <td>CHOLERA_0000000002</td>\n",
       "      <td>Number of reported deaths from cholera</td>\n",
       "      <td>https://www.who.int/data/gho/indicator-metadat...</td>\n",
       "      <td>1994.0</td>\n",
       "      <td>South-East Asia</td>\n",
       "      <td>Nepal</td>\n",
       "      <td>0.0</td>\n",
       "    </tr>\n",
       "    <tr>\n",
       "      <th>4</th>\n",
       "      <td>CHOLERA_0000000002</td>\n",
       "      <td>Number of reported deaths from cholera</td>\n",
       "      <td>https://www.who.int/data/gho/indicator-metadat...</td>\n",
       "      <td>1995.0</td>\n",
       "      <td>South-East Asia</td>\n",
       "      <td>Nepal</td>\n",
       "      <td>0.0</td>\n",
       "    </tr>\n",
       "    <tr>\n",
       "      <th>5</th>\n",
       "      <td>CHOLERA_0000000002</td>\n",
       "      <td>Number of reported deaths from cholera</td>\n",
       "      <td>https://www.who.int/data/gho/indicator-metadat...</td>\n",
       "      <td>1971.0</td>\n",
       "      <td>South-East Asia</td>\n",
       "      <td>Nepal</td>\n",
       "      <td>0.0</td>\n",
       "    </tr>\n",
       "  </tbody>\n",
       "</table>\n",
       "</div>"
      ],
      "text/plain": [
       "           gho (code)                           gho (display)  \\\n",
       "1  CHOLERA_0000000002  Number of reported deaths from cholera   \n",
       "2  CHOLERA_0000000002  Number of reported deaths from cholera   \n",
       "3  CHOLERA_0000000002  Number of reported deaths from cholera   \n",
       "4  CHOLERA_0000000002  Number of reported deaths from cholera   \n",
       "5  CHOLERA_0000000002  Number of reported deaths from cholera   \n",
       "\n",
       "                                           gho (url)  year (code)  \\\n",
       "1  https://www.who.int/data/gho/indicator-metadat...       1965.0   \n",
       "2  https://www.who.int/data/gho/indicator-metadat...       1993.0   \n",
       "3  https://www.who.int/data/gho/indicator-metadat...       1994.0   \n",
       "4  https://www.who.int/data/gho/indicator-metadat...       1995.0   \n",
       "5  https://www.who.int/data/gho/indicator-metadat...       1971.0   \n",
       "\n",
       "  region (display) country (display)  display value  \n",
       "1  South-East Asia             Nepal           97.0  \n",
       "2  South-East Asia             Nepal            0.0  \n",
       "3  South-East Asia             Nepal            0.0  \n",
       "4  South-East Asia             Nepal            0.0  \n",
       "5  South-East Asia             Nepal            0.0  "
      ]
     },
     "execution_count": 17,
     "metadata": {},
     "output_type": "execute_result"
    }
   ],
   "source": [
    "nepal_infectious_diseases.head()"
   ]
  },
  {
   "cell_type": "markdown",
   "id": "5fe374df",
   "metadata": {},
   "source": [
    "#### Removing column whose display value is 0"
   ]
  },
  {
   "cell_type": "code",
   "execution_count": 18,
   "id": "dea65cbf",
   "metadata": {},
   "outputs": [],
   "source": [
    "nepal_infectious_diseases = nepal_infectious_diseases[nepal_infectious_diseases['display value'] != 0]"
   ]
  },
  {
   "cell_type": "code",
   "execution_count": 19,
   "id": "aa5bb58d",
   "metadata": {},
   "outputs": [
    {
     "data": {
      "text/html": [
       "<div>\n",
       "<style scoped>\n",
       "    .dataframe tbody tr th:only-of-type {\n",
       "        vertical-align: middle;\n",
       "    }\n",
       "\n",
       "    .dataframe tbody tr th {\n",
       "        vertical-align: top;\n",
       "    }\n",
       "\n",
       "    .dataframe thead th {\n",
       "        text-align: right;\n",
       "    }\n",
       "</style>\n",
       "<table border=\"1\" class=\"dataframe\">\n",
       "  <thead>\n",
       "    <tr style=\"text-align: right;\">\n",
       "      <th></th>\n",
       "      <th>gho (code)</th>\n",
       "      <th>gho (display)</th>\n",
       "      <th>gho (url)</th>\n",
       "      <th>year (code)</th>\n",
       "      <th>region (display)</th>\n",
       "      <th>country (display)</th>\n",
       "      <th>display value</th>\n",
       "    </tr>\n",
       "  </thead>\n",
       "  <tbody>\n",
       "    <tr>\n",
       "      <th>1</th>\n",
       "      <td>CHOLERA_0000000002</td>\n",
       "      <td>Number of reported deaths from cholera</td>\n",
       "      <td>https://www.who.int/data/gho/indicator-metadat...</td>\n",
       "      <td>1965.0</td>\n",
       "      <td>South-East Asia</td>\n",
       "      <td>Nepal</td>\n",
       "      <td>97.0</td>\n",
       "    </tr>\n",
       "    <tr>\n",
       "      <th>10</th>\n",
       "      <td>CHOLERA_0000000002</td>\n",
       "      <td>Number of reported deaths from cholera</td>\n",
       "      <td>https://www.who.int/data/gho/indicator-metadat...</td>\n",
       "      <td>1976.0</td>\n",
       "      <td>South-East Asia</td>\n",
       "      <td>Nepal</td>\n",
       "      <td>1.0</td>\n",
       "    </tr>\n",
       "    <tr>\n",
       "      <th>11</th>\n",
       "      <td>CHOLERA_0000000002</td>\n",
       "      <td>Number of reported deaths from cholera</td>\n",
       "      <td>https://www.who.int/data/gho/indicator-metadat...</td>\n",
       "      <td>1977.0</td>\n",
       "      <td>South-East Asia</td>\n",
       "      <td>Nepal</td>\n",
       "      <td>4.0</td>\n",
       "    </tr>\n",
       "    <tr>\n",
       "      <th>12</th>\n",
       "      <td>CHOLERA_0000000002</td>\n",
       "      <td>Number of reported deaths from cholera</td>\n",
       "      <td>https://www.who.int/data/gho/indicator-metadat...</td>\n",
       "      <td>1978.0</td>\n",
       "      <td>South-East Asia</td>\n",
       "      <td>Nepal</td>\n",
       "      <td>10.0</td>\n",
       "    </tr>\n",
       "    <tr>\n",
       "      <th>15</th>\n",
       "      <td>CHOLERA_0000000002</td>\n",
       "      <td>Number of reported deaths from cholera</td>\n",
       "      <td>https://www.who.int/data/gho/indicator-metadat...</td>\n",
       "      <td>1989.0</td>\n",
       "      <td>South-East Asia</td>\n",
       "      <td>Nepal</td>\n",
       "      <td>2.0</td>\n",
       "    </tr>\n",
       "  </tbody>\n",
       "</table>\n",
       "</div>"
      ],
      "text/plain": [
       "            gho (code)                           gho (display)  \\\n",
       "1   CHOLERA_0000000002  Number of reported deaths from cholera   \n",
       "10  CHOLERA_0000000002  Number of reported deaths from cholera   \n",
       "11  CHOLERA_0000000002  Number of reported deaths from cholera   \n",
       "12  CHOLERA_0000000002  Number of reported deaths from cholera   \n",
       "15  CHOLERA_0000000002  Number of reported deaths from cholera   \n",
       "\n",
       "                                            gho (url)  year (code)  \\\n",
       "1   https://www.who.int/data/gho/indicator-metadat...       1965.0   \n",
       "10  https://www.who.int/data/gho/indicator-metadat...       1976.0   \n",
       "11  https://www.who.int/data/gho/indicator-metadat...       1977.0   \n",
       "12  https://www.who.int/data/gho/indicator-metadat...       1978.0   \n",
       "15  https://www.who.int/data/gho/indicator-metadat...       1989.0   \n",
       "\n",
       "   region (display) country (display)  display value  \n",
       "1   South-East Asia             Nepal           97.0  \n",
       "10  South-East Asia             Nepal            1.0  \n",
       "11  South-East Asia             Nepal            4.0  \n",
       "12  South-East Asia             Nepal           10.0  \n",
       "15  South-East Asia             Nepal            2.0  "
      ]
     },
     "execution_count": 19,
     "metadata": {},
     "output_type": "execute_result"
    }
   ],
   "source": [
    "nepal_infectious_diseases.head()"
   ]
  },
  {
   "cell_type": "markdown",
   "id": "6dfd354e",
   "metadata": {},
   "source": [
    "### Storing latest Data Frame into S3 bucket"
   ]
  },
  {
   "cell_type": "code",
   "execution_count": 20,
   "id": "3eeca6f7",
   "metadata": {},
   "outputs": [],
   "source": [
    "bucket = \"infectious-diseases-nepal-analytics\""
   ]
  },
  {
   "cell_type": "code",
   "execution_count": 21,
   "id": "2ea8202a",
   "metadata": {},
   "outputs": [],
   "source": [
    "csv_buffer = StringIO()"
   ]
  },
  {
   "cell_type": "code",
   "execution_count": 22,
   "id": "224702f6",
   "metadata": {},
   "outputs": [
    {
     "data": {
      "text/plain": [
       "<_io.StringIO at 0x24206dca700>"
      ]
     },
     "execution_count": 22,
     "metadata": {},
     "output_type": "execute_result"
    }
   ],
   "source": [
    "csv_buffer"
   ]
  },
  {
   "cell_type": "code",
   "execution_count": 23,
   "id": "79f57bc2",
   "metadata": {},
   "outputs": [],
   "source": [
    "nepal_infectious_diseases.to_csv(csv_buffer, index=False)"
   ]
  },
  {
   "cell_type": "code",
   "execution_count": 24,
   "id": "a5af435f",
   "metadata": {},
   "outputs": [
    {
     "data": {
      "text/plain": [
       "0"
      ]
     },
     "execution_count": 24,
     "metadata": {},
     "output_type": "execute_result"
    }
   ],
   "source": [
    "csv_buffer.seek(0)"
   ]
  },
  {
   "cell_type": "code",
   "execution_count": 25,
   "id": "de856e2f",
   "metadata": {
    "scrolled": true
   },
   "outputs": [
    {
     "data": {
      "text/plain": [
       "{'ResponseMetadata': {'RequestId': 'RNGMFYE8XAY9XTD1',\n",
       "  'HostId': 'YbaWsTEoDjqHO9ve4rQACM55JhuwGhXpDu+o4AtVZUS9hHQ+7NQX8pqYbuX8PAidgi+FXcllaxg=',\n",
       "  'HTTPStatusCode': 200,\n",
       "  'HTTPHeaders': {'x-amz-id-2': 'YbaWsTEoDjqHO9ve4rQACM55JhuwGhXpDu+o4AtVZUS9hHQ+7NQX8pqYbuX8PAidgi+FXcllaxg=',\n",
       "   'x-amz-request-id': 'RNGMFYE8XAY9XTD1',\n",
       "   'date': 'Thu, 11 May 2023 16:04:10 GMT',\n",
       "   'x-amz-server-side-encryption': 'AES256',\n",
       "   'etag': '\"9b3f8f606199aa97018ab2a50d141705\"',\n",
       "   'server': 'AmazonS3',\n",
       "   'content-length': '0'},\n",
       "  'RetryAttempts': 1},\n",
       " 'ETag': '\"9b3f8f606199aa97018ab2a50d141705\"',\n",
       " 'ServerSideEncryption': 'AES256'}"
      ]
     },
     "execution_count": 25,
     "metadata": {},
     "output_type": "execute_result"
    }
   ],
   "source": [
    "s3_resource = boto3.resource('s3',\n",
    "                              aws_access_key_id=AWS_ACCESS_KEY,\n",
    "                              aws_secret_access_key= AWS_SECRET_KEY)\n",
    "s3_resource.Object(bucket, 'nepal_infectious_diseases_analytics.csv').put(Body=csv_buffer.getvalue())"
   ]
  }
 ],
 "metadata": {
  "kernelspec": {
   "display_name": "Python 3 (ipykernel)",
   "language": "python",
   "name": "python3"
  },
  "language_info": {
   "codemirror_mode": {
    "name": "ipython",
    "version": 3
   },
   "file_extension": ".py",
   "mimetype": "text/x-python",
   "name": "python",
   "nbconvert_exporter": "python",
   "pygments_lexer": "ipython3",
   "version": "3.8.0"
  }
 },
 "nbformat": 4,
 "nbformat_minor": 5
}
